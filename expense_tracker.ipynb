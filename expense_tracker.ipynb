{
 "cells": [
  {
   "cell_type": "code",
   "execution_count": null,
   "id": "e6f61073-7e6c-4823-b3ad-00aa0d53e311",
   "metadata": {},
   "outputs": [],
   "source": [
    "from expense_db import *"
   ]
  },
  {
   "cell_type": "markdown",
   "id": "b3743680-3b7e-4443-a0d1-855a19f36954",
   "metadata": {},
   "source": [
    "## 1. Storing new expenses"
   ]
  },
  {
   "cell_type": "code",
   "execution_count": null,
   "id": "1d57a30d-00f9-444a-a621-0041f71e08ee",
   "metadata": {},
   "outputs": [],
   "source": [
    "new_expense_form()"
   ]
  },
  {
   "cell_type": "markdown",
   "id": "412fb109-7e1b-470a-b65d-914d1b010f91",
   "metadata": {},
   "source": [
    "## 2. Displaying all expenses"
   ]
  },
  {
   "cell_type": "code",
   "execution_count": null,
   "id": "16731cbf-a96e-48ef-9961-9dd385c40c90",
   "metadata": {},
   "outputs": [],
   "source": [
    "view_expenses()"
   ]
  },
  {
   "cell_type": "markdown",
   "id": "358e1737-0dcf-4cf7-96df-ed0c6be9f6c2",
   "metadata": {},
   "source": [
    "## 3. Checking budget"
   ]
  },
  {
   "cell_type": "code",
   "execution_count": null,
   "id": "54e4e6d0-cf2e-4cce-9954-ccf9c398e349",
   "metadata": {},
   "outputs": [],
   "source": [
    "budget_check()"
   ]
  },
  {
   "cell_type": "markdown",
   "id": "b829610d-f62c-4bc3-9580-1176793a8586",
   "metadata": {},
   "source": [
    "## 4. Saving to CSV"
   ]
  },
  {
   "cell_type": "code",
   "execution_count": null,
   "id": "f6e137bb-c989-4dd6-9693-12420b20347a",
   "metadata": {},
   "outputs": [],
   "source": [
    "save_to_csv()"
   ]
  },
  {
   "cell_type": "markdown",
   "id": "048bcc6c-1673-4227-9eaa-3641dd2c907e",
   "metadata": {},
   "source": [
    "## 5. Loading from CSV"
   ]
  },
  {
   "cell_type": "code",
   "execution_count": null,
   "id": "17d7789b-d37e-4d9e-9b5e-821f7ef365f8",
   "metadata": {},
   "outputs": [],
   "source": [
    "load_from_csv()"
   ]
  },
  {
   "cell_type": "markdown",
   "id": "f378a7a5-5f93-4664-b63c-d1ed151c87a6",
   "metadata": {},
   "source": [
    "## 6. Menu with buttons"
   ]
  },
  {
   "cell_type": "code",
   "execution_count": null,
   "id": "e7d27564-0af6-4a31-a0af-b1591a5c34e8",
   "metadata": {},
   "outputs": [],
   "source": [
    "show_menu()"
   ]
  }
 ],
 "metadata": {
  "kernelspec": {
   "display_name": "Python 3 (ipykernel)",
   "language": "python",
   "name": "python3"
  },
  "language_info": {
   "codemirror_mode": {
    "name": "ipython",
    "version": 3
   },
   "file_extension": ".py",
   "mimetype": "text/x-python",
   "name": "python",
   "nbconvert_exporter": "python",
   "pygments_lexer": "ipython3",
   "version": "3.13.2"
  }
 },
 "nbformat": 4,
 "nbformat_minor": 5
}
