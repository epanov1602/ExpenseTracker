{
 "cells": [
  {
   "cell_type": "code",
   "execution_count": 1,
   "id": "e6f61073-7e6c-4823-b3ad-00aa0d53e311",
   "metadata": {},
   "outputs": [
    {
     "data": {
      "application/vnd.jupyter.widget-view+json": {
       "model_id": "dc1b33246ac9436a99a072a109224e6b",
       "version_major": 2,
       "version_minor": 0
      },
      "text/plain": [
       "Output()"
      ]
     },
     "metadata": {},
     "output_type": "display_data"
    }
   ],
   "source": [
    "from expense_db import *"
   ]
  },
  {
   "cell_type": "markdown",
   "id": "b3743680-3b7e-4443-a0d1-855a19f36954",
   "metadata": {},
   "source": [
    "## 1. Storing new expenses"
   ]
  },
  {
   "cell_type": "code",
   "execution_count": 2,
   "id": "1d57a30d-00f9-444a-a621-0041f71e08ee",
   "metadata": {},
   "outputs": [
    {
     "data": {
      "application/vnd.jupyter.widget-view+json": {
       "model_id": "7df0a81eb6b14588a7c9cb0f81bae9ef",
       "version_major": 2,
       "version_minor": 0
      },
      "text/plain": [
       "interactive(children=(Dropdown(description='expense_date', options=('2025-04-09', '2025-04-10', '2025-04-11', …"
      ]
     },
     "execution_count": 2,
     "metadata": {},
     "output_type": "execute_result"
    }
   ],
   "source": [
    "new_expense_form()"
   ]
  },
  {
   "cell_type": "markdown",
   "id": "412fb109-7e1b-470a-b65d-914d1b010f91",
   "metadata": {},
   "source": [
    "## 2. Displaying all expenses"
   ]
  },
  {
   "cell_type": "code",
   "execution_count": 9,
   "id": "16731cbf-a96e-48ef-9961-9dd385c40c90",
   "metadata": {},
   "outputs": [
    {
     "data": {
      "application/vnd.jupyter.widget-view+json": {
       "model_id": "0648def336aa4f5aa9da8c0afc8aa7cf",
       "version_major": 2,
       "version_minor": 0
      },
      "text/plain": [
       "interactive(children=(Output(),), _dom_classes=('widget-interact',))"
      ]
     },
     "execution_count": 9,
     "metadata": {},
     "output_type": "execute_result"
    }
   ],
   "source": [
    "view_expenses()"
   ]
  },
  {
   "cell_type": "markdown",
   "id": "358e1737-0dcf-4cf7-96df-ed0c6be9f6c2",
   "metadata": {},
   "source": [
    "## 3. Checking budget"
   ]
  },
  {
   "cell_type": "code",
   "execution_count": 4,
   "id": "54e4e6d0-cf2e-4cce-9954-ccf9c398e349",
   "metadata": {},
   "outputs": [
    {
     "data": {
      "application/vnd.jupyter.widget-view+json": {
       "model_id": "9f7f5435411347c88e9e646631450d31",
       "version_major": 2,
       "version_minor": 0
      },
      "text/plain": [
       "interactive(children=(FloatText(value=4000.0, description='limit'), Output()), _dom_classes=('widget-interact'…"
      ]
     },
     "execution_count": 4,
     "metadata": {},
     "output_type": "execute_result"
    }
   ],
   "source": [
    "budget_check()"
   ]
  },
  {
   "cell_type": "markdown",
   "id": "b829610d-f62c-4bc3-9580-1176793a8586",
   "metadata": {},
   "source": [
    "## 4. Saving to CSV"
   ]
  },
  {
   "cell_type": "code",
   "execution_count": 5,
   "id": "f6e137bb-c989-4dd6-9693-12420b20347a",
   "metadata": {},
   "outputs": [
    {
     "data": {
      "application/vnd.jupyter.widget-view+json": {
       "model_id": "bdbd5b3f84eb4a45a66c7f1252821d5c",
       "version_major": 2,
       "version_minor": 0
      },
      "text/plain": [
       "FileChooser(path='C:\\Users\\genep\\PycharmProjects\\ExpenseTracker', filename='', title='', show_hidden=False, se…"
      ]
     },
     "execution_count": 5,
     "metadata": {},
     "output_type": "execute_result"
    }
   ],
   "source": [
    "save_to_csv()"
   ]
  },
  {
   "cell_type": "markdown",
   "id": "048bcc6c-1673-4227-9eaa-3641dd2c907e",
   "metadata": {},
   "source": [
    "## 5. Loading from CSV"
   ]
  },
  {
   "cell_type": "code",
   "execution_count": 6,
   "id": "17d7789b-d37e-4d9e-9b5e-821f7ef365f8",
   "metadata": {},
   "outputs": [
    {
     "data": {
      "application/vnd.jupyter.widget-view+json": {
       "model_id": "70bc6bdec05c4488ad8fd1160889d91f",
       "version_major": 2,
       "version_minor": 0
      },
      "text/plain": [
       "FileChooser(path='C:\\Users\\genep\\PycharmProjects\\ExpenseTracker', filename='', title='', show_hidden=False, se…"
      ]
     },
     "execution_count": 6,
     "metadata": {},
     "output_type": "execute_result"
    }
   ],
   "source": [
    "load_from_csv()"
   ]
  },
  {
   "cell_type": "markdown",
   "id": "f378a7a5-5f93-4664-b63c-d1ed151c87a6",
   "metadata": {},
   "source": [
    "## 6. Menu with buttons"
   ]
  },
  {
   "cell_type": "code",
   "execution_count": 8,
   "id": "e7d27564-0af6-4a31-a0af-b1591a5c34e8",
   "metadata": {},
   "outputs": [
    {
     "data": {
      "application/vnd.jupyter.widget-view+json": {
       "model_id": "50177aec565a49e6a30b57ea30c09540",
       "version_major": 2,
       "version_minor": 0
      },
      "text/plain": [
       "Output()"
      ]
     },
     "metadata": {},
     "output_type": "display_data"
    },
    {
     "data": {
      "application/vnd.jupyter.widget-view+json": {
       "model_id": "fb5a60f89c594bf4a2b0d9c67ba23069",
       "version_major": 2,
       "version_minor": 0
      },
      "text/plain": [
       "VBox(children=(Button(description='Add Expense', style=ButtonStyle()), Button(description='View Expenses', sty…"
      ]
     },
     "metadata": {},
     "output_type": "display_data"
    }
   ],
   "source": [
    "show_menu()"
   ]
  }
 ],
 "metadata": {
  "kernelspec": {
   "display_name": "Python 3 (ipykernel)",
   "language": "python",
   "name": "python3"
  },
  "language_info": {
   "codemirror_mode": {
    "name": "ipython",
    "version": 3
   },
   "file_extension": ".py",
   "mimetype": "text/x-python",
   "name": "python",
   "nbconvert_exporter": "python",
   "pygments_lexer": "ipython3",
   "version": "3.13.2"
  }
 },
 "nbformat": 4,
 "nbformat_minor": 5
}
